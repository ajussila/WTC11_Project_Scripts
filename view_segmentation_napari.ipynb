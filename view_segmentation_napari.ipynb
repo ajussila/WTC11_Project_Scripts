{
 "cells": [
  {
   "cell_type": "code",
   "execution_count": 1,
   "id": "6604d0d8-d7d4-4011-a1ae-cf4a0e4555e2",
   "metadata": {},
   "outputs": [],
   "source": [
    "from ioMicro import *\n",
    "import numpy as np\n",
    "import matplotlib.pyplot as plt\n",
    "import pandas as pd"
   ]
  },
  {
   "cell_type": "code",
   "execution_count": 2,
   "id": "6110458c-5b91-4543-8623-4bfa309e2a6a",
   "metadata": {},
   "outputs": [],
   "source": [
    "segm_fls = np.sort(glob.glob(r'Z:\\Adam\\E201_WTC11_WTday15__10_20_2023\\AnalysisDeconvolve_CG\\segmentationDAPI\\*expanded.npz'))\n",
    "fl = segm_fls[60]\n",
    "masks = resize(np.load(fl)['segm'])\n",
    "shape = np.load(fl)['shape']\n",
    "tensor = np.load(fl)['tensor']"
   ]
  },
  {
   "cell_type": "code",
   "execution_count": 3,
   "id": "208160aa-1d51-4f62-8317-43b99308cd9e",
   "metadata": {},
   "outputs": [
    {
     "data": {
      "text/plain": [
       "'Z:\\\\Adam\\\\E201_WTC11_WTday15__10_20_2023\\\\AnalysisDeconvolve_CG\\\\segmentationDAPI\\\\Conv_zscan__060--H1_DMER_1--CYTO_segm_expanded.npz'"
      ]
     },
     "execution_count": 3,
     "metadata": {},
     "output_type": "execute_result"
    }
   ],
   "source": [
    "fl"
   ]
  },
  {
   "cell_type": "code",
   "execution_count": 4,
   "id": "5fab22d7-4f10-4e82-bb04-d39eab5d0434",
   "metadata": {},
   "outputs": [
    {
     "data": {
      "text/plain": [
       "<Labels layer 'Labels' at 0x1d4a6a590a0>"
      ]
     },
     "execution_count": 4,
     "metadata": {},
     "output_type": "execute_result"
    }
   ],
   "source": [
    "import napari\n",
    "V = napari.view_image(tensor)\n",
    "V.add_image(tensor,contrast_limits=[0,11000])\n",
    "V.add_labels(resize(masks, tensor.shape))"
   ]
  },
  {
   "cell_type": "code",
   "execution_count": null,
   "id": "23774649-7778-435a-953e-326707384795",
   "metadata": {},
   "outputs": [],
   "source": []
  }
 ],
 "metadata": {
  "kernelspec": {
   "display_name": "Python 3 (ipykernel)",
   "language": "python",
   "name": "python3"
  },
  "language_info": {
   "codemirror_mode": {
    "name": "ipython",
    "version": 3
   },
   "file_extension": ".py",
   "mimetype": "text/x-python",
   "name": "python",
   "nbconvert_exporter": "python",
   "pygments_lexer": "ipython3",
   "version": "3.9.18"
  }
 },
 "nbformat": 4,
 "nbformat_minor": 5
}
